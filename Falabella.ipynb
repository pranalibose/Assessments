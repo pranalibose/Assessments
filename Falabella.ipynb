{
 "cells": [
  {
   "cell_type": "markdown",
   "id": "e2a61dee",
   "metadata": {},
   "source": [
    "### Round 1"
   ]
  },
  {
   "cell_type": "markdown",
   "id": "6b950ffc",
   "metadata": {},
   "source": [
    "**Q:** Write a python program to print the value of pi based on the below infinite series (consider upto 15 terms):\n",
    "\n",
    "pi = 3 + 4/(2x3x4) - 4/(4x5x6) + 4/(6x7x8) - 4/(8x9x10) + ....\n",
    "\n",
    "**Ans:**"
   ]
  },
  {
   "cell_type": "code",
   "execution_count": 4,
   "id": "8241399e",
   "metadata": {},
   "outputs": [
    {
     "name": "stdout",
     "output_type": "stream",
     "text": [
      "3.141653394197426\n"
     ]
    }
   ],
   "source": [
    "def series(n):\n",
    "    if n==0:\n",
    "        return 3\n",
    "    term = 0\n",
    "    denom = 0\n",
    "    s=0\n",
    "    for i in range(1,n+1):\n",
    "        denom = 2*i\n",
    "        term = 4/(denom * (denom+1) * (denom+2))\n",
    "        if i%2 !=0:\n",
    "            s+=term\n",
    "        else:\n",
    "            s-=term\n",
    "    return 3+s\n",
    "\n",
    "print(series(15))"
   ]
  },
  {
   "cell_type": "markdown",
   "id": "c08d34e9",
   "metadata": {},
   "source": [
    "**Q:** How to merge 2 dataframes on a simgle column?\n",
    "\n",
    "**Ans:** pd.merge([df1, df2], on='column', how='inner')"
   ]
  },
  {
   "cell_type": "markdown",
   "id": "c809358d",
   "metadata": {},
   "source": [
    "<u>Other Questions</u>\n",
    "1.\tMulticollinearity?\n",
    "2.\tUse case: How to handle data among different AWS services? Explain with example.\n",
    "3.\tHypothesis Testing. What is p-value?\n",
    "4.\tHow will you handle imbalanced classes in classification problem?\n",
    "5.\tClassification model evaluation metrics. Difference between Recall and Accuracy.\n",
    "6.\tWhat is Kubernetes?\n",
    "7.\tPandas pivot method.\n",
    "8. How is Gradient Boosting algorithm different from Random Forest?"
   ]
  }
 ],
 "metadata": {
  "kernelspec": {
   "display_name": "Python 3",
   "language": "python",
   "name": "python3"
  },
  "language_info": {
   "codemirror_mode": {
    "name": "ipython",
    "version": 3
   },
   "file_extension": ".py",
   "mimetype": "text/x-python",
   "name": "python",
   "nbconvert_exporter": "python",
   "pygments_lexer": "ipython3",
   "version": "3.8.8"
  }
 },
 "nbformat": 4,
 "nbformat_minor": 5
}
