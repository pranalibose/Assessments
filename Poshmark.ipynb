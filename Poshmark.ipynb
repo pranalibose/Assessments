{
 "cells": [
  {
   "cell_type": "markdown",
   "id": "a7c2a6bf",
   "metadata": {},
   "source": [
    "### 1. Top Articles\n",
    "Query a REST API to get information about a list of articles. Given an integer, limit, return the top limit article names ordered decreasing by comment count, then increasing alphabetically for those that have the same comment counts.\n",
    "\n",
    "To access the collection of users perform HTTP GET Request to 'https://jsonmock.hackerrank.com/api/articles?page=1' passing the appropraite page numbers. Total page count is stored in total_pages variable.\n",
    "\n",
    "The response is a JSON object with the following 5 fields:\n",
    "   - page\n",
    "   - per_page\n",
    "   - total\n",
    "   - total_pages\n",
    "   - data\n",
    "   \n",
    "Each data record has the following schema:\n",
    "- title\n",
    "- url\n",
    "- author\n",
    "- num_comments\n",
    "- story_id\n",
    "- story_title\n",
    "- story_url\n",
    "- parent_id\n",
    "- created_at\n",
    "\n",
    "First, get the article name:\n",
    "- If the title field is not null, use title\n",
    "- Otherwise, if the story_title field is not null, use story_title\n",
    "- If both fields are null, ignore the article\n",
    "\n",
    "Sort the titles decreasing by comment counts, then increasing alphabetically by article name if there is a tie in comments count. Return a list of top limit names."
   ]
  },
  {
   "cell_type": "code",
   "execution_count": 34,
   "id": "9f1d2a2d",
   "metadata": {},
   "outputs": [
    {
     "name": "stdout",
     "output_type": "stream",
     "text": [
      "UK votes to leave EU\n",
      "F.C.C. Repeals Net Neutrality Rules\n"
     ]
    }
   ],
   "source": [
    "import pandas as pd\n",
    "import requests\n",
    "from pandas import json_normalize\n",
    "\n",
    "def top_articles(limit):\n",
    "    URL = 'https://jsonmock.hackerrank.com/api/articles?page=1'\n",
    "    r = requests.get(url=URL)\n",
    "    data = r.json()\n",
    "    content = data['data']\n",
    "    pages = int(data['total_pages'])\n",
    "    for i in range(1,pages):\n",
    "        URL = 'https://jsonmock.hackerrank.com/api/articles?page={}'.format(i)\n",
    "        r = requests.get(url=URL)\n",
    "        data = r.json()\n",
    "        content.extend(data['data'])\n",
    "    df = pd.DataFrame(pd.json_normalize(content))\n",
    "    df['article'] = df['title']\n",
    "    df['article'].fillna(df['story_title'])\n",
    "\n",
    "    df = df[~df['article'].isnull()]\n",
    "    df.sort_values(by=['num_comments', 'article'], ascending=[False, True], inplace=True)\n",
    "    df_result = df.iloc[:limit,:]['article']\n",
    "    res = []\n",
    "    for i in df_result:\n",
    "        res.append(i)\n",
    "    return res\n",
    "    \n",
    "for i in top_articles(2):\n",
    "    print(i)"
   ]
  },
  {
   "cell_type": "markdown",
   "id": "cff67caa",
   "metadata": {},
   "source": [
    "### 2. Minimum Distance \n",
    "Input: \n",
    "1. space: list of lists containing the coordinates of points on a 2D plane\n",
    "2. point: coordinate of the point from which distances need to be considered\n",
    "\n",
    "Output: \n",
    "\n",
    "Coordinate of the point nearest to the point in consideration"
   ]
  },
  {
   "cell_type": "code",
   "execution_count": 33,
   "id": "0374659a",
   "metadata": {},
   "outputs": [
    {
     "name": "stdout",
     "output_type": "stream",
     "text": [
      "[1, 0]\n"
     ]
    }
   ],
   "source": [
    "import numpy\n",
    "\n",
    "def shortest_distance(space, point):\n",
    "    a = numpy.array(space[0])\n",
    "    b = numpy.array(point)\n",
    "    orig = abs(numpy.linalg.norm(a-b))\n",
    "    res = space[0]\n",
    "    for i in range(1, len(space)):\n",
    "        a = numpy.array(space[i])\n",
    "        dist = abs(numpy.linalg.norm(a-b))\n",
    "        if dist < orig:\n",
    "            orig = dist\n",
    "            res = space[i]\n",
    "    return res\n",
    "\n",
    "print(shortest_distance([[0,0], [1,0], [2,2]], [1,1]))"
   ]
  }
 ],
 "metadata": {
  "kernelspec": {
   "display_name": "Python 3",
   "language": "python",
   "name": "python3"
  },
  "language_info": {
   "codemirror_mode": {
    "name": "ipython",
    "version": 3
   },
   "file_extension": ".py",
   "mimetype": "text/x-python",
   "name": "python",
   "nbconvert_exporter": "python",
   "pygments_lexer": "ipython3",
   "version": "3.8.8"
  }
 },
 "nbformat": 4,
 "nbformat_minor": 5
}
